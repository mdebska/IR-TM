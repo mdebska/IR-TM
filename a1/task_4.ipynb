{
 "cells": [
  {
   "cell_type": "code",
   "execution_count": 1,
   "id": "665d3b85",
   "metadata": {},
   "outputs": [],
   "source": [
    "import pandas as pd\n",
    "import re"
   ]
  },
  {
   "cell_type": "code",
   "execution_count": 2,
   "id": "08b8642b",
   "metadata": {},
   "outputs": [],
   "source": [
    "def load_csv(path):\n",
    "    \"\"\"\n",
    "    Loads a csv file and returns a pandas dataframe.\n",
    "    \"\"\"\n",
    "    return pd.read_csv(path, \n",
    "                        sep=\"\\t\", \n",
    "                        header=None,\n",
    "                        encoding=\"utf-8\",\n",
    "                        names=[\"ts\", \"id\", \"uname\", \"name\", \"comment\"],\n",
    "                        on_bad_lines=\"skip\", # skips wrong formatted lines\n",
    "                        )"
   ]
  },
  {
   "cell_type": "code",
   "execution_count": 3,
   "id": "76b3afe6",
   "metadata": {},
   "outputs": [],
   "source": [
    "import re\n",
    "\n",
    "def doc_to_terms(string):\n",
    "    EMOJI_PATTERN = re.compile(\n",
    "        r\"([\"\n",
    "        r\"\\U0001F1E0-\\U0001F1FF\"\n",
    "        r\"\\U0001F300-\\U0001F5FF\"\n",
    "        r\"\\U0001F600-\\U0001F64F\"\n",
    "        r\"\\U0001F680-\\U0001F6FF\"\n",
    "        r\"\\U0001F700-\\U0001F77F\"\n",
    "        r\"\\U0001F780-\\U0001F7FF\"\n",
    "        r\"\\U0001F800-\\U0001F8FF\"\n",
    "        r\"\\U0001F900-\\U0001F9FF\"\n",
    "        r\"\\U0001FA00-\\U0001FA6F\"\n",
    "        r\"\\U0001FA70-\\U0001FAFF\"\n",
    "        r\"\\u2702-\\u27B0\"\n",
    "        r\"])\"\n",
    "    )\n",
    "\n",
    "    string_processed = re.sub(r\"[\\[\\]\\.\\(\\),\\?!\\\"'@:#]\", \"\", string).lower()\n",
    "    string_processed = re.sub(EMOJI_PATTERN, \"\", string_processed)\n",
    "    string_processed = re.sub(r\"newline\", \" \", string_processed)\n",
    "    string_processed = re.sub(r\"tab\", \" \", string_processed)\n",
    "\n",
    "    terms = re.split(r\"\\s+\", string_processed.strip())\n",
    "    terms = list(set(terms))\n",
    "\n",
    "    return terms\n"
   ]
  },
  {
   "cell_type": "code",
   "execution_count": 11,
   "id": "8e0f28fd",
   "metadata": {},
   "outputs": [],
   "source": [
    "def index(filename):\n",
    "    \"\"\"\n",
    "    Creates a non-positional inverted index from a csv file.\n",
    "    \"\"\"\n",
    "    # Load the dataset from the specified file\n",
    "    tweets = load_csv(filename)\n",
    "\n",
    "    dictionary = {}  \n",
    "    postings = {}   \n",
    "    \n",
    "    for index, row in tweets.iterrows():\n",
    "        # Normalize and tokenize the comment into unique terms\n",
    "        terms = doc_to_terms(row[\"comment\"])\n",
    "\n",
    "        for term in terms:\n",
    "            if term in dictionary:\n",
    "                # Update term frequency and add tweet ID to posting set\n",
    "                count, pointer = dictionary[term]\n",
    "                count += 1\n",
    "                postings[pointer].add(row[\"id\"])\n",
    "                dictionary[term] = (count, pointer)\n",
    "            else:\n",
    "                # Create a new posting entry for the term\n",
    "                pointer = \"p\" + str(len(postings) + 1)\n",
    "                dictionary[term] = (1, pointer)\n",
    "                postings[pointer] = {row[\"id\"]}\n",
    "\n",
    "    # Convert posting sets to sorted lists\n",
    "    for pointer in postings:\n",
    "        postings[pointer] = sorted(postings[pointer])\n",
    "\n",
    "    return dictionary, postings\n"
   ]
  },
  {
   "cell_type": "code",
   "execution_count": 12,
   "id": "ff957dfe",
   "metadata": {},
   "outputs": [],
   "source": [
    "dictionary, postings = index(\"data/tweets.csv\")"
   ]
  },
  {
   "cell_type": "code",
   "execution_count": 6,
   "id": "94ab259d",
   "metadata": {},
   "outputs": [],
   "source": [
    "def query(term : str):\n",
    "    \"\"\"\n",
    "    Returns the posting list of a term.\n",
    "    \"\"\"\n",
    "    if term in dictionary: \n",
    "        _, pointer = dictionary[term]\n",
    "        t_posting = postings[pointer]\n",
    "    else:\n",
    "        t_posting = {}\n",
    "\n",
    "    return t_posting"
   ]
  },
  {
   "cell_type": "code",
   "execution_count": 7,
   "id": "0de65c86",
   "metadata": {},
   "outputs": [],
   "source": [
    "def query_two(term1, term2 : str):\n",
    "    \"\"\"\n",
    "    Returns the intersection of two posting lists.\n",
    "    \"\"\"\n",
    "    if term1 in dictionary and term2 in dictionary:\n",
    "        # get the posting lists of the terms\n",
    "        _, pointer1 = dictionary[term1]\n",
    "        _, pointer2 = dictionary[term2]\n",
    "        t_posting1 = postings[pointer1]\n",
    "        t_posting2 = postings[pointer2]\n",
    "\n",
    "        # initialize iterators\n",
    "        iter1 = iter(t_posting1)\n",
    "        iter2 = iter(t_posting2)\n",
    "\n",
    "        res = []\n",
    "        try:\n",
    "            doc1 = next(iter1)\n",
    "            doc2 = next(iter2)\n",
    "            # iterate through the posting lists \n",
    "            # until the end of one of them is reached\n",
    "            while True:\n",
    "                if doc1 == doc2:\n",
    "                    res.append(doc1)\n",
    "                    doc1 = next(iter1)\n",
    "                    doc2 = next(iter2)\n",
    "                elif doc1 < doc2:\n",
    "                    doc1 = next(iter1)\n",
    "                else:\n",
    "                    doc2 = next(iter2)\n",
    "        except StopIteration:\n",
    "            pass\n",
    "        return res"
   ]
  },
  {
   "cell_type": "code",
   "execution_count": 8,
   "id": "dc97cabc",
   "metadata": {},
   "outputs": [],
   "source": [
    "# example usage: “show me tweets of people who talk about the side effects of malaria vaccines”"
   ]
  },
  {
   "cell_type": "code",
   "execution_count": 13,
   "id": "05f1f9c1",
   "metadata": {},
   "outputs": [
    {
     "data": {
      "text/plain": [
       "[959514944340406274,\n",
       " 959575041984815104,\n",
       " 959692402897252352,\n",
       " 960943225950363648,\n",
       " 962312288895082496,\n",
       " 967482743352446976,\n",
       " 968581927103025152,\n",
       " 968942042767380482,\n",
       " 968978184438915072,\n",
       " 971107739257720832,\n",
       " 975144519481016321,\n",
       " 975611613645504513,\n",
       " 976245297922719744,\n",
       " 976814069666660352,\n",
       " 976891628135895041,\n",
       " 977600179607166978,\n",
       " 977931146658045954,\n",
       " 978029187364786177,\n",
       " 978045723701907456,\n",
       " 979010694732533761,\n",
       " 979334908157063170,\n",
       " 981754225544790017,\n",
       " 983446352284864512,\n",
       " 983452965313961984,\n",
       " 984116422174564352,\n",
       " 984174853845495808,\n",
       " 984808954885787648,\n",
       " 986672130233458690,\n",
       " 986701837213618176,\n",
       " 987239808811454464,\n",
       " 989494717954932738,\n",
       " 991387528207982593,\n",
       " 991428556583522304,\n",
       " 993159352772190209,\n",
       " 994173759237083136,\n",
       " 994570946630602752,\n",
       " 995709620365811714,\n",
       " 996829924462923776,\n",
       " 997526703588032512,\n",
       " 998652713645813760,\n",
       " 998712863899303936,\n",
       " 1002642808736505856,\n",
       " 1008860493854003200,\n",
       " 1013512078257197056,\n",
       " 1018620460458704901,\n",
       " 1022625149810630656]"
      ]
     },
     "execution_count": 13,
     "metadata": {},
     "output_type": "execute_result"
    }
   ],
   "source": [
    "query(\"reduce\")"
   ]
  }
 ],
 "metadata": {
  "kernelspec": {
   "display_name": "Python 3",
   "language": "python",
   "name": "python3"
  },
  "language_info": {
   "codemirror_mode": {
    "name": "ipython",
    "version": 3
   },
   "file_extension": ".py",
   "mimetype": "text/x-python",
   "name": "python",
   "nbconvert_exporter": "python",
   "pygments_lexer": "ipython3",
   "version": "3.13.2"
  }
 },
 "nbformat": 4,
 "nbformat_minor": 5
}
